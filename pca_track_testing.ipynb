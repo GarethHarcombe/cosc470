{
 "cells": [
  {
   "cell_type": "markdown",
   "metadata": {},
   "source": [
    "## Initial Setup"
   ]
  },
  {
   "cell_type": "code",
   "execution_count": 1,
   "metadata": {},
   "outputs": [],
   "source": [
    "%load_ext autoreload\n",
    "%autoreload 2"
   ]
  },
  {
   "cell_type": "code",
   "execution_count": 13,
   "metadata": {},
   "outputs": [],
   "source": [
    "from dataloader import read_activity\n",
    "from track_location.pca import pca, k_means\n",
    "import pandas as pd\n",
    "import numpy as np"
   ]
  },
  {
   "attachments": {},
   "cell_type": "markdown",
   "metadata": {},
   "source": [
    "## Load a workout"
   ]
  },
  {
   "cell_type": "code",
   "execution_count": 3,
   "metadata": {},
   "outputs": [],
   "source": [
    "# https://www.strava.com/activities/5094620458/overview \n",
    "points, laps, events = read_activity(\"data/activities/5431221291.fit\", center_points=False)"
   ]
  },
  {
   "cell_type": "code",
   "execution_count": 19,
   "metadata": {},
   "outputs": [
    {
     "data": {
      "text/html": [
       "<div>\n",
       "<style scoped>\n",
       "    .dataframe tbody tr th:only-of-type {\n",
       "        vertical-align: middle;\n",
       "    }\n",
       "\n",
       "    .dataframe tbody tr th {\n",
       "        vertical-align: top;\n",
       "    }\n",
       "\n",
       "    .dataframe thead th {\n",
       "        text-align: right;\n",
       "    }\n",
       "</style>\n",
       "<table border=\"1\" class=\"dataframe\">\n",
       "  <thead>\n",
       "    <tr style=\"text-align: right;\">\n",
       "      <th></th>\n",
       "      <th>Timestamp</th>\n",
       "      <th>speed</th>\n",
       "      <th>cadence</th>\n",
       "      <th>x</th>\n",
       "      <th>y</th>\n",
       "      <th>time_after_start</th>\n",
       "    </tr>\n",
       "  </thead>\n",
       "  <tbody>\n",
       "    <tr>\n",
       "      <th>0</th>\n",
       "      <td>2021-04-05 23:18:05+00:00</td>\n",
       "      <td>2.118</td>\n",
       "      <td>171.0</td>\n",
       "      <td>627037.534882</td>\n",
       "      <td>5.179747e+06</td>\n",
       "      <td>239.0</td>\n",
       "    </tr>\n",
       "    <tr>\n",
       "      <th>1</th>\n",
       "      <td>2021-04-05 23:18:13+00:00</td>\n",
       "      <td>3.256</td>\n",
       "      <td>172.0</td>\n",
       "      <td>627053.917153</td>\n",
       "      <td>5.179769e+06</td>\n",
       "      <td>247.0</td>\n",
       "    </tr>\n",
       "    <tr>\n",
       "      <th>2</th>\n",
       "      <td>2021-04-05 23:18:19+00:00</td>\n",
       "      <td>3.312</td>\n",
       "      <td>174.0</td>\n",
       "      <td>627066.978349</td>\n",
       "      <td>5.179784e+06</td>\n",
       "      <td>253.0</td>\n",
       "    </tr>\n",
       "    <tr>\n",
       "      <th>3</th>\n",
       "      <td>2021-04-05 23:18:21+00:00</td>\n",
       "      <td>3.303</td>\n",
       "      <td>174.0</td>\n",
       "      <td>627071.903041</td>\n",
       "      <td>5.179786e+06</td>\n",
       "      <td>255.0</td>\n",
       "    </tr>\n",
       "    <tr>\n",
       "      <th>4</th>\n",
       "      <td>2021-04-05 23:18:27+00:00</td>\n",
       "      <td>3.406</td>\n",
       "      <td>174.0</td>\n",
       "      <td>627092.689446</td>\n",
       "      <td>5.179786e+06</td>\n",
       "      <td>261.0</td>\n",
       "    </tr>\n",
       "    <tr>\n",
       "      <th>...</th>\n",
       "      <td>...</td>\n",
       "      <td>...</td>\n",
       "      <td>...</td>\n",
       "      <td>...</td>\n",
       "      <td>...</td>\n",
       "      <td>...</td>\n",
       "    </tr>\n",
       "    <tr>\n",
       "      <th>222</th>\n",
       "      <td>2021-04-05 23:48:13+00:00</td>\n",
       "      <td>3.331</td>\n",
       "      <td>170.0</td>\n",
       "      <td>626746.018943</td>\n",
       "      <td>5.179877e+06</td>\n",
       "      <td>2047.0</td>\n",
       "    </tr>\n",
       "    <tr>\n",
       "      <th>223</th>\n",
       "      <td>2021-04-05 23:48:19+00:00</td>\n",
       "      <td>3.359</td>\n",
       "      <td>170.0</td>\n",
       "      <td>626724.469483</td>\n",
       "      <td>5.179879e+06</td>\n",
       "      <td>2053.0</td>\n",
       "    </tr>\n",
       "    <tr>\n",
       "      <th>224</th>\n",
       "      <td>2021-04-05 23:48:25+00:00</td>\n",
       "      <td>3.406</td>\n",
       "      <td>170.0</td>\n",
       "      <td>626703.446800</td>\n",
       "      <td>5.179878e+06</td>\n",
       "      <td>2059.0</td>\n",
       "    </tr>\n",
       "    <tr>\n",
       "      <th>225</th>\n",
       "      <td>2021-04-05 23:48:31+00:00</td>\n",
       "      <td>3.424</td>\n",
       "      <td>169.0</td>\n",
       "      <td>626683.594460</td>\n",
       "      <td>5.179875e+06</td>\n",
       "      <td>2065.0</td>\n",
       "    </tr>\n",
       "    <tr>\n",
       "      <th>226</th>\n",
       "      <td>2021-04-05 23:48:35+00:00</td>\n",
       "      <td>3.368</td>\n",
       "      <td>169.0</td>\n",
       "      <td>626674.193371</td>\n",
       "      <td>5.179877e+06</td>\n",
       "      <td>2069.0</td>\n",
       "    </tr>\n",
       "  </tbody>\n",
       "</table>\n",
       "<p>227 rows × 6 columns</p>\n",
       "</div>"
      ],
      "text/plain": [
       "                    Timestamp  speed cadence              x             y  \\\n",
       "0   2021-04-05 23:18:05+00:00  2.118   171.0  627037.534882  5.179747e+06   \n",
       "1   2021-04-05 23:18:13+00:00  3.256   172.0  627053.917153  5.179769e+06   \n",
       "2   2021-04-05 23:18:19+00:00  3.312   174.0  627066.978349  5.179784e+06   \n",
       "3   2021-04-05 23:18:21+00:00  3.303   174.0  627071.903041  5.179786e+06   \n",
       "4   2021-04-05 23:18:27+00:00  3.406   174.0  627092.689446  5.179786e+06   \n",
       "..                        ...    ...     ...            ...           ...   \n",
       "222 2021-04-05 23:48:13+00:00  3.331   170.0  626746.018943  5.179877e+06   \n",
       "223 2021-04-05 23:48:19+00:00  3.359   170.0  626724.469483  5.179879e+06   \n",
       "224 2021-04-05 23:48:25+00:00  3.406   170.0  626703.446800  5.179878e+06   \n",
       "225 2021-04-05 23:48:31+00:00  3.424   169.0  626683.594460  5.179875e+06   \n",
       "226 2021-04-05 23:48:35+00:00  3.368   169.0  626674.193371  5.179877e+06   \n",
       "\n",
       "     time_after_start  \n",
       "0               239.0  \n",
       "1               247.0  \n",
       "2               253.0  \n",
       "3               255.0  \n",
       "4               261.0  \n",
       "..                ...  \n",
       "222            2047.0  \n",
       "223            2053.0  \n",
       "224            2059.0  \n",
       "225            2065.0  \n",
       "226            2069.0  \n",
       "\n",
       "[227 rows x 6 columns]"
      ]
     },
     "execution_count": 19,
     "metadata": {},
     "output_type": "execute_result"
    }
   ],
   "source": [
    "points#[100:110]"
   ]
  },
  {
   "cell_type": "code",
   "execution_count": 34,
   "metadata": {},
   "outputs": [
    {
     "name": "stdout",
     "output_type": "stream",
     "text": [
      "[]\n"
     ]
    }
   ],
   "source": [
    "from track_location.track_tools import add_track_cols\n",
    "\n",
    "matched_segments = []\n",
    "\n",
    "def match_to_track(ser):\n",
    "    \n",
    "    x = points.loc[ser.index].reset_index(drop=True)\n",
    "    \n",
    "    new_points = add_track_cols(x)\n",
    "    if sum(new_points.dist_to_track) < 100:\n",
    "        matched_segments.append(x)\n",
    "    \n",
    "    return sum(new_points.dist_to_track)\n",
    "\n",
    "rol = points.x.rolling(window=10)\n",
    "rol.apply(match_to_track, raw=False)\n",
    "print(matched_segments)"
   ]
  }
 ],
 "metadata": {
  "kernelspec": {
   "display_name": "Python 3",
   "language": "python",
   "name": "python3"
  },
  "language_info": {
   "codemirror_mode": {
    "name": "ipython",
    "version": 3
   },
   "file_extension": ".py",
   "mimetype": "text/x-python",
   "name": "python",
   "nbconvert_exporter": "python",
   "pygments_lexer": "ipython3",
   "version": "3.8.10"
  },
  "orig_nbformat": 4
 },
 "nbformat": 4,
 "nbformat_minor": 2
}
